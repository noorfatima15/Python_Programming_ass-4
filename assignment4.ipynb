{
 "cells": [
  {
   "cell_type": "code",
   "execution_count": 6,
   "id": "1a13df32",
   "metadata": {},
   "outputs": [
    {
     "name": "stdout",
     "output_type": "stream",
     "text": [
      "Please select operation -\n",
      "1. Add\n",
      "2. Subtract\n",
      "3. Multiply\n",
      "4. Divide\n",
      "\n",
      "Select operations form 1, 2, 3, 4 :3\n",
      "Enter first number: 6\n",
      "Enter second number: 5\n",
      "6 * 5 = 30\n"
     ]
    }
   ],
   "source": [
    "\n",
    "\n",
    "# Function to add two numbers\n",
    "def add(num1, num2):\n",
    "\treturn num1 + num2\n",
    "\n",
    "# Function to subtract two numbers\n",
    "def subtract(num1, num2):\n",
    "\treturn num1 - num2\n",
    "\n",
    "# Function to multiply two numbers\n",
    "def multiply(num1, num2):\n",
    "\treturn num1 * num2\n",
    "\n",
    "# Function to divide two numbers\n",
    "def divide(num1, num2):\n",
    "\treturn num1 / num2\n",
    "\n",
    "print(\"Please select operation -\\n\" \\\n",
    "\t\t\"1. Add\\n\" \\\n",
    "\t\t\"2. Subtract\\n\" \\\n",
    "\t\t\"3. Multiply\\n\" \\\n",
    "\t\t\"4. Divide\\n\")\n",
    "\n",
    "\n",
    "# Take input from the user\n",
    "select = int(input(\"Select operations form 1, 2, 3, 4 :\"))\n",
    "\n",
    "number_1 = int(input(\"Enter first number: \"))\n",
    "number_2 = int(input(\"Enter second number: \"))\n",
    "\n",
    "if select == 1:\n",
    "\tprint(number_1, \"+\", number_2, \"=\",\n",
    "\t\t\t\t\tadd(number_1, number_2))\n",
    "\n",
    "elif select == 2:\n",
    "\tprint(number_1, \"-\", number_2, \"=\",\n",
    "\t\t\t\t\tsubtract(number_1, number_2))\n",
    "\n",
    "elif select == 3:\n",
    "\tprint(number_1, \"*\", number_2, \"=\",\n",
    "\t\t\t\t\tmultiply(number_1, number_2))\n",
    "\n",
    "elif select == 4:\n",
    "\tprint(number_1, \"/\", number_2, \"=\",\n",
    "\t\t\t\t\tdivide(number_1, number_2))\n",
    "else:\n",
    "\tprint(\"Invalid input\")\n"
   ]
  },
  {
   "cell_type": "code",
   "execution_count": 7,
   "id": "964bfe25",
   "metadata": {},
   "outputs": [
    {
     "name": "stdout",
     "output_type": "stream",
     "text": [
      "11\n",
      "11\n",
      "43\n",
      "43\n",
      "54\n",
      "54\n",
      "54\n",
      "54\n"
     ]
    }
   ],
   "source": [
    "noor = [11, 34.1, 98.2, 43, 45.1, 54, 54]\n",
    "\n",
    "for a in noor:\n",
    "    if int(a) == a:\n",
    "    \tprint(a)\n",
    "        \n",
    "    #or\n",
    "    if isinstance(a, int):\n",
    "      \tprint(a)"
   ]
  },
  {
   "cell_type": "code",
   "execution_count": 9,
   "id": "64f3b1c5",
   "metadata": {},
   "outputs": [
    {
     "name": "stdout",
     "output_type": "stream",
     "text": [
      "Directory\n",
      "{0: 30, 1: 40}\n",
      "New directory\n",
      "{0: 30, 1: 40, 2: 50}\n"
     ]
    }
   ],
   "source": [
    "n = {0:30, 1:40}\n",
    "print (\"Directory\")\n",
    "print(n)\n",
    "n.update({2:50})\n",
    "print (\"New directory\")\n",
    "print(n)"
   ]
  },
  {
   "cell_type": "code",
   "execution_count": 10,
   "id": "02d01955",
   "metadata": {},
   "outputs": [
    {
     "name": "stdout",
     "output_type": "stream",
     "text": [
      "2109\n"
     ]
    }
   ],
   "source": [
    "my_val = {'data1':109,'data2':-97,'data3':2097}\n",
    "print(sum(my_val.values()))"
   ]
  },
  {
   "cell_type": "code",
   "execution_count": 13,
   "id": "0b2181f8",
   "metadata": {},
   "outputs": [
    {
     "name": "stdout",
     "output_type": "stream",
     "text": [
      "the duplicate values in the array are: \n",
      "2\n",
      "2\n",
      "2\n",
      "3\n",
      "8\n"
     ]
    }
   ],
   "source": [
    "#Initialize array     \n",
    "noor = [2, 2, 3, 4, 2, 7, 8, 8, 3];     \n",
    "     \n",
    "print(\"the duplicate values in the array are: \");    \n",
    "#Searches for duplicate element    \n",
    "for i in range(0, len(noor)):    \n",
    "    for j in range(i+1, len(noor)):    \n",
    "        if(noor[i] == noor[j]):    \n",
    "            print(noor[j]);"
   ]
  },
  {
   "cell_type": "code",
   "execution_count": 16,
   "id": "863b70ad",
   "metadata": {},
   "outputs": [
    {
     "name": "stdout",
     "output_type": "stream",
     "text": [
      "Enter key to check:4\n",
      "Key isn't present!\n"
     ]
    }
   ],
   "source": [
    "n={'A':1,'B':2,'C':3}\n",
    "key=input(\"Please Enter The key In Order to check:\")\n",
    "if key in n.keys():\n",
    "      print(\"Key is present and value of the key is:\")\n",
    "      print(n[key])\n",
    "else:\n",
    "      print(\"Key isn't present!\")"
   ]
  },
  {
   "cell_type": "code",
   "execution_count": null,
   "id": "d00b6b94",
   "metadata": {},
   "outputs": [],
   "source": []
  }
 ],
 "metadata": {
  "kernelspec": {
   "display_name": "Python 3",
   "language": "python",
   "name": "python3"
  },
  "language_info": {
   "codemirror_mode": {
    "name": "ipython",
    "version": 3
   },
   "file_extension": ".py",
   "mimetype": "text/x-python",
   "name": "python",
   "nbconvert_exporter": "python",
   "pygments_lexer": "ipython3",
   "version": "3.8.8"
  }
 },
 "nbformat": 4,
 "nbformat_minor": 5
}
